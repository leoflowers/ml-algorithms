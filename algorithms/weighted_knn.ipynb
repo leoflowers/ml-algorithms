{
 "cells": [
  {
   "cell_type": "code",
   "execution_count": 2,
   "metadata": {},
   "outputs": [],
   "source": [
    "import numpy as np \n",
    "import pandas as pd\n",
    "import matplotlib.pyplot as plt\n",
    "\n",
    "df = pd.read_csv('iris.csv', header=None, names = [\"sepal length[cm]\",\"sepal width[cm]\",\"petal length[cm]\", \"petal width[cm]\", \"label\"])"
   ]
  },
  {
   "cell_type": "code",
   "execution_count": 3,
   "metadata": {},
   "outputs": [],
   "source": [
    "# data preprocessing and splitting\n",
    "\n",
    "df['label'] = df.label.map({'Iris-setosa': 0,\n",
    "              'Iris-versicolor': 1,\n",
    "              'Iris-virginica': 2})\n",
    "\n",
    "\n",
    "from sklearn.model_selection import train_test_split\n",
    "names = [\"sepal length[cm]\",\"sepal width[cm]\", \"petal length[cm]\", \"petal width[cm]\"]\n",
    "\n",
    "df_X_train, df_X_test, df_y_train, df_y_test = train_test_split(df[names],df['label'], random_state=0)\n",
    "\n",
    "\n",
    "X_train=df_X_train.to_numpy()\n",
    "X_test=df_X_test.to_numpy()\n",
    "y_train=df_y_train.to_numpy()\n",
    "y_test=df_y_test.to_numpy()"
   ]
  },
  {
   "cell_type": "code",
   "execution_count": 4,
   "metadata": {},
   "outputs": [],
   "source": [
    "# distance function\n",
    "\n",
    "def euclidean_distance(x1, x2):\n",
    "    return np.sqrt((x1[0] - x2[0])**2 + (x1[1] - x2[1])**2)\n",
    "\n",
    "def manhattan_distance(x1, x2):\n",
    "    return abs(x1[0] - x2[0]) + abs(x1[1] - x2[1])"
   ]
  },
  {
   "cell_type": "code",
   "execution_count": 5,
   "metadata": {},
   "outputs": [],
   "source": [
    "# gets k nearest neighbors to x_test\n",
    "\n",
    "def get_neighbors(X_train, y_train, x_test, k, dist_func = manhattan_distance):\n",
    "    neighbors = []\n",
    "    for i in range(0, np.shape(X_train)[0]):\n",
    "        neighbors.append([y_train[i], dist_func(X_train[i], x_test)])\n",
    "    \n",
    "    neighbors.sort(key = lambda x: x[1])\n",
    "    return neighbors[0:k] # elements are [label of point, distance to point]"
   ]
  },
  {
   "cell_type": "code",
   "execution_count": 6,
   "metadata": {},
   "outputs": [],
   "source": [
    "# base algorithm: kNN\n",
    "\n",
    "def KNNclassifier(neighbors, k):\n",
    "    if k == 1:\n",
    "        return neighbors[0][0]\n",
    "    else:\n",
    "        counts = {0:0,\n",
    "                  1:0,\n",
    "                  2:0}\n",
    "        for neighbor in neighbors:\n",
    "            counts[neighbor[0]] += 1   \n",
    "            \n",
    "        return max(counts, key = counts.get)\n",
    "        \n",
    "def KNNclassify(x_test, k):\n",
    "    return KNNclassifier(get_neighbors(X_train, y_train, x_test, k), k)"
   ]
  },
  {
   "cell_type": "code",
   "execution_count": 7,
   "metadata": {},
   "outputs": [],
   "source": [
    "# extension: weighted kNN\n",
    "\n",
    "def weight_distances(neighbors):\n",
    "    weighted_neighbors = neighbors\n",
    "    total = 0.0\n",
    "    \n",
    "    for i in range(0, len(neighbors)):\n",
    "        inv = 1 / (neighbors[i][1]**2 + 1e-10) # add small offset to avoid division by NaN\n",
    "        total += inv\n",
    "        weighted_neighbors[i][1] = inv\n",
    "        \n",
    "    for i in range(0, len(neighbors)):\n",
    "        weighted_neighbors[i][1] /= total\n",
    "        \n",
    "    return weighted_neighbors\n",
    "\n",
    "def weighted_KNNclassifier(neighbors, k):\n",
    "    weighted_neighbors = weight_distances(neighbors)\n",
    "    if k == 1:\n",
    "        return weighted_neighbors[0][0]\n",
    "    else:\n",
    "        counts = {0:0.0,\n",
    "                  1:0.0,\n",
    "                  2:0.0}\n",
    "        for neighbor in weighted_neighbors:\n",
    "            counts[neighbor[0]] += neighbor[1]\n",
    "            \n",
    "        return max(counts, key=counts.get)\n",
    "    \n",
    "    \n",
    "def weighted_KNNclassify(x_test, k):\n",
    "    return weighted_KNNclassifier(get_neighbors(X_train, y_train, x_test, k), k)"
   ]
  },
  {
   "cell_type": "code",
   "execution_count": 12,
   "metadata": {},
   "outputs": [
    {
     "name": "stdout",
     "output_type": "stream",
     "text": [
      "best accuracy: 0.710526 using 19 neighbors\n"
     ]
    }
   ],
   "source": [
    "# testing extended algorithm\n",
    "\n",
    "accs = []\n",
    "for j in range(1, 20):\n",
    "    correctly_classified = 0\n",
    "    for i in range(0, X_test.shape[0]):\n",
    "        result = weighted_KNNclassify(X_test[i], j)\n",
    "        if result == y_test[i]:\n",
    "            correctly_classified += 1\n",
    "    accs.append([j, correctly_classified / y_test.shape[0]])\n",
    "    \n",
    "best = np.max(accs, axis=0)\n",
    "print(\"best accuracy: %f using %d neighbors\" %(best[1], best[0]))"
   ]
  },
  {
   "cell_type": "code",
   "execution_count": 9,
   "metadata": {},
   "outputs": [
    {
     "data": {
      "text/plain": [
       "<matplotlib.collections.PathCollection at 0x7f0f0c764460>"
      ]
     },
     "execution_count": 9,
     "metadata": {},
     "output_type": "execute_result"
    },
    {
     "data": {
      "image/png": "[encoded data removed]",
      "text/plain": [
       "<Figure size 432x288 with 1 Axes>"
      ]
     },
     "metadata": {
      "needs_background": "light"
     },
     "output_type": "display_data"
    }
   ],
   "source": [
    "plt.scatter(*zip(*accs))"
   ]
  },
  {
   "cell_type": "code",
   "execution_count": 10,
   "metadata": {},
   "outputs": [
    {
     "name": "stdout",
     "output_type": "stream",
     "text": [
      "For scikit's k = 3 nearest weighted neighbors:\n",
      "Accuracy:  0.9736842105263158\n"
     ]
    }
   ],
   "source": [
    "# testing scikit's algorithm\n",
    "\n",
    "from sklearn import neighbors\n",
    "\n",
    "clf = neighbors.KNeighborsClassifier(3, weights='distance')\n",
    "clf.fit(X_train, y_train)\n",
    "\n",
    "\n",
    "correctly_classified = 0\n",
    "result = clf.predict(X_test)\n",
    "\n",
    "for i in range(0, X_test.shape[0]):\n",
    "    \n",
    "    if result[i] == y_test[i]:\n",
    "        correctly_classified += 1\n",
    "\n",
    "print(\"For scikit's k = 3 nearest weighted neighbors:\")\n",
    "print(\"Accuracy: \", correctly_classified / y_test.shape[0])"
   ]
  },
  {
   "cell_type": "code",
   "execution_count": null,
   "metadata": {},
   "outputs": [],
   "source": []
  }
 ],
 "metadata": {
  "kernelspec": {
   "display_name": "Python 3",
   "language": "python",
   "name": "python3"
  },
  "language_info": {
   "codemirror_mode": {
    "name": "ipython",
    "version": 3
   },
   "file_extension": ".py",
   "mimetype": "text/x-python",
   "name": "python",
   "nbconvert_exporter": "python",
   "pygments_lexer": "ipython3",
   "version": "3.8.2"
  }
 },
 "nbformat": 4,
 "nbformat_minor": 4
}
