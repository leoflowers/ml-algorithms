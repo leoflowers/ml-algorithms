{
 "cells": [
  {
   "cell_type": "code",
   "execution_count": 48,
   "metadata": {},
   "outputs": [],
   "source": [
    "import numpy as np\n",
    "import pandas as pd\n",
    "from sklearn.preprocessing import Normalizer\n",
    "from sklearn.datasets import load_boston\n",
    "from sklearn.model_selection import train_test_split\n",
    "from sklearn.preprocessing import PolynomialFeatures\n",
    "import matplotlib.pyplot as plt"
   ]
  },
  {
   "cell_type": "code",
   "execution_count": 49,
   "metadata": {},
   "outputs": [],
   "source": [
    "boston_data = load_boston()\n",
    "\n",
    "#  Create X and Y variables - X holding the design matrix and Y holding target vector\n",
    "X_orig = boston_data.data \n",
    "y = boston_data.target\n",
    "\n",
    "# Proprocesing by adding a column of 1's to the front of X_orig to create X\n",
    "one_col = np.ones((X_orig.shape[0],1))\n",
    "X = np.hstack((one_col, X_orig))\n",
    "\n",
    "#  Reshape Y to be a rank 2 matrix \n",
    "y = y.reshape(X_orig.shape[0], 1)\n",
    "\n",
    "df_X = pd.DataFrame(X)\n",
    "df_y = pd.DataFrame(y)\n",
    "\n",
    "X_train, X_test, y_train, y_test = train_test_split(X,y, random_state=2435234)"
   ]
  },
  {
   "cell_type": "code",
   "execution_count": 50,
   "metadata": {},
   "outputs": [],
   "source": [
    "# data normalization; necessary for lasso regression\n",
    "\n",
    "transformer = Normalizer().fit(X_train)\n",
    "X_train = transformer.transform(X_train)\n",
    "X_test = transformer.transform(X_test)\n"
   ]
  },
  {
   "cell_type": "code",
   "execution_count": 51,
   "metadata": {},
   "outputs": [],
   "source": [
    "# linear model\n",
    "\n",
    "def h(w, x):\n",
    "    return np.dot(w, x)"
   ]
  },
  {
   "cell_type": "code",
   "execution_count": 52,
   "metadata": {},
   "outputs": [],
   "source": [
    "def cost(w, X, y):\n",
    "    total = 0\n",
    "    for i in range(0, len(X)):\n",
    "        total += (y[i] - h(X[i]))**2\n",
    "    return total"
   ]
  },
  {
   "cell_type": "code",
   "execution_count": 53,
   "metadata": {},
   "outputs": [],
   "source": [
    "# vanilla linear regression\n",
    "\n",
    "def fit_model_closed(X, y):\n",
    "    return np.matmul(np.linalg.pinv(X), y)\n",
    "\n",
    "def fit_model_gd(X, y, learning_rate, iters):\n",
    "    w = np.zeros((X.shape[1], ))\n",
    "    for i in range(0, iters):\n",
    "        w -= (learning_rate / X.shape[0])*np.matmul(X.transpose(), (np.matmul(X, w) - y))\n",
    "    return w"
   ]
  },
  {
   "cell_type": "code",
   "execution_count": 54,
   "metadata": {},
   "outputs": [],
   "source": [
    "def partial_residual(i, j, X, y, w):\n",
    "    res = 0\n",
    "    for k in range(1, len(w)):\n",
    "        if(k != j):\n",
    "            res += X[i][k]*w[k]\n",
    "    return y[i] - res\n",
    "\n",
    "def soft_threshold(rho_i, penalty, z_i):\n",
    "    neg_rho = -1*rho_i\n",
    "    if rho_i < neg_rho:\n",
    "        return (rho_i + penalty)/z_i\n",
    "    elif rho_i > penalty:\n",
    "        return (rho_i - penalty)/z_i\n",
    "    else:\n",
    "        return 0"
   ]
  },
  {
   "cell_type": "code",
   "execution_count": 55,
   "metadata": {},
   "outputs": [],
   "source": [
    "def fit_lasso_model_cd(X, y, learning_rate, penalty, iters):\n",
    "    w = np.zeros((X.shape[1], ))\n",
    "    for iteration in range(0, iters):\n",
    "        #print(\"iteration:\", iteration)\n",
    "        for i in range(0, len(w)):\n",
    "            rho_i = 0\n",
    "            z_i = 0\n",
    "            for j in range(0, X.shape[0]):\n",
    "                rho_i += X[j][i]*partial_residual(j, i, X, y, w)\n",
    "                z_i += X[j][i]**2\n",
    "            w[i] = soft_threshold(rho_i, penalty, z_i)\n",
    "    return w"
   ]
  },
  {
   "cell_type": "code",
   "execution_count": 61,
   "metadata": {},
   "outputs": [
    {
     "name": "stdout",
     "output_type": "stream",
     "text": [
      "personal implementation r2 value:  0.6536525254473016\n",
      "scikit implementation r2 value:  0.2724679901078845\n"
     ]
    }
   ],
   "source": [
    "# comparing personal vs. scikit implementation\n",
    "\n",
    "from sklearn.metrics import r2_score\n",
    "from sklearn import linear_model\n",
    "\n",
    "#weights = fit_lasso_model_cd(X_train, y_train, .5, .1, 30)\n",
    "\n",
    "clf = linear_model.Lasso(alpha=0.1)\n",
    "clf.fit(X_train, y_train)\n",
    "\n",
    "\n",
    "y_pred2 = []\n",
    "test = 100\n",
    "res = []\n",
    "for j in range(0, test):\n",
    "    weights = fit_lasso_model_cd(X_train, y_train, .5, .1, j)\n",
    "    y_pred1 = []\n",
    "    for i in range(0, X_test.shape[0]):\n",
    "        y_pred1.append(h(weights, X_test[i]))\n",
    "    res.append([j, r2_score(y_test, y_pred1)])\n",
    "    \n",
    "y_pred2=clf.predict(X_test)\n",
    "\n",
    "print(\"personal implementation r2 value: \", r2_score(y_test, y_pred1))\n",
    "print(\"scikit implementation r2 value: \", r2_score(y_test, y_pred2))"
   ]
  },
  {
   "cell_type": "code",
   "execution_count": 63,
   "metadata": {},
   "outputs": [
    {
     "data": {
      "text/plain": [
       "<matplotlib.collections.PathCollection at 0x7f9ef6e3fe20>"
      ]
     },
     "execution_count": 63,
     "metadata": {},
     "output_type": "execute_result"
    },
    {
     "data": {
      "image/png": "[encoded data removed]",
      "text/plain": [
       "<Figure size 432x288 with 1 Axes>"
      ]
     },
     "metadata": {
      "needs_background": "light"
     },
     "output_type": "display_data"
    }
   ],
   "source": [
    "plt.scatter(*zip(*res[2:]))"
   ]
  },
  {
   "cell_type": "code",
   "execution_count": null,
   "metadata": {},
   "outputs": [],
   "source": []
  }
 ],
 "metadata": {
  "kernelspec": {
   "display_name": "Python 3",
   "language": "python",
   "name": "python3"
  },
  "language_info": {
   "codemirror_mode": {
    "name": "ipython",
    "version": 3
   },
   "file_extension": ".py",
   "mimetype": "text/x-python",
   "name": "python",
   "nbconvert_exporter": "python",
   "pygments_lexer": "ipython3",
   "version": "3.7.6"
  }
 },
 "nbformat": 4,
 "nbformat_minor": 4
}
