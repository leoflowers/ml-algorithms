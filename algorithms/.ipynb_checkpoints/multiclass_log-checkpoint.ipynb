{
 "cells": [
  {
   "cell_type": "code",
   "execution_count": 4,
   "metadata": {},
   "outputs": [],
   "source": [
    "# extension: multi-class logistic regression\n",
    "# base algorithm: binary logistic regression\n",
    "\n",
    "import numpy as np\n",
    "import pandas as pd\n",
    "from sklearn.model_selection import train_test_split\n",
    "from sklearn import preprocessing\n",
    "import matplotlib.pyplot as plt"
   ]
  },
  {
   "cell_type": "code",
   "execution_count": 5,
   "metadata": {},
   "outputs": [
    {
     "data": {
      "text/html": [
       "<div>\n",
       "<style scoped>\n",
       "    .dataframe tbody tr th:only-of-type {\n",
       "        vertical-align: middle;\n",
       "    }\n",
       "\n",
       "    .dataframe tbody tr th {\n",
       "        vertical-align: top;\n",
       "    }\n",
       "\n",
       "    .dataframe thead th {\n",
       "        text-align: right;\n",
       "    }\n",
       "</style>\n",
       "<table border=\"1\" class=\"dataframe\">\n",
       "  <thead>\n",
       "    <tr style=\"text-align: right;\">\n",
       "      <th></th>\n",
       "      <th>label</th>\n",
       "      <th>alcohol</th>\n",
       "      <th>malic acid</th>\n",
       "      <th>ash</th>\n",
       "      <th>alcalinity of ash</th>\n",
       "      <th>magnesium</th>\n",
       "      <th>total phenols</th>\n",
       "      <th>flavanoids</th>\n",
       "      <th>nonflavanoid phenols</th>\n",
       "      <th>proanthocyanins</th>\n",
       "      <th>color intensity</th>\n",
       "      <th>hue</th>\n",
       "      <th>OD280/OD315 of diluted wines</th>\n",
       "      <th>proline</th>\n",
       "    </tr>\n",
       "  </thead>\n",
       "  <tbody>\n",
       "    <tr>\n",
       "      <th>0</th>\n",
       "      <td>1</td>\n",
       "      <td>14.23</td>\n",
       "      <td>1.71</td>\n",
       "      <td>2.43</td>\n",
       "      <td>15.6</td>\n",
       "      <td>127</td>\n",
       "      <td>2.80</td>\n",
       "      <td>3.06</td>\n",
       "      <td>0.28</td>\n",
       "      <td>2.29</td>\n",
       "      <td>5.64</td>\n",
       "      <td>1.04</td>\n",
       "      <td>3.92</td>\n",
       "      <td>1065</td>\n",
       "    </tr>\n",
       "    <tr>\n",
       "      <th>1</th>\n",
       "      <td>1</td>\n",
       "      <td>13.20</td>\n",
       "      <td>1.78</td>\n",
       "      <td>2.14</td>\n",
       "      <td>11.2</td>\n",
       "      <td>100</td>\n",
       "      <td>2.65</td>\n",
       "      <td>2.76</td>\n",
       "      <td>0.26</td>\n",
       "      <td>1.28</td>\n",
       "      <td>4.38</td>\n",
       "      <td>1.05</td>\n",
       "      <td>3.40</td>\n",
       "      <td>1050</td>\n",
       "    </tr>\n",
       "    <tr>\n",
       "      <th>2</th>\n",
       "      <td>1</td>\n",
       "      <td>13.16</td>\n",
       "      <td>2.36</td>\n",
       "      <td>2.67</td>\n",
       "      <td>18.6</td>\n",
       "      <td>101</td>\n",
       "      <td>2.80</td>\n",
       "      <td>3.24</td>\n",
       "      <td>0.30</td>\n",
       "      <td>2.81</td>\n",
       "      <td>5.68</td>\n",
       "      <td>1.03</td>\n",
       "      <td>3.17</td>\n",
       "      <td>1185</td>\n",
       "    </tr>\n",
       "    <tr>\n",
       "      <th>3</th>\n",
       "      <td>1</td>\n",
       "      <td>14.37</td>\n",
       "      <td>1.95</td>\n",
       "      <td>2.50</td>\n",
       "      <td>16.8</td>\n",
       "      <td>113</td>\n",
       "      <td>3.85</td>\n",
       "      <td>3.49</td>\n",
       "      <td>0.24</td>\n",
       "      <td>2.18</td>\n",
       "      <td>7.80</td>\n",
       "      <td>0.86</td>\n",
       "      <td>3.45</td>\n",
       "      <td>1480</td>\n",
       "    </tr>\n",
       "    <tr>\n",
       "      <th>4</th>\n",
       "      <td>1</td>\n",
       "      <td>13.24</td>\n",
       "      <td>2.59</td>\n",
       "      <td>2.87</td>\n",
       "      <td>21.0</td>\n",
       "      <td>118</td>\n",
       "      <td>2.80</td>\n",
       "      <td>2.69</td>\n",
       "      <td>0.39</td>\n",
       "      <td>1.82</td>\n",
       "      <td>4.32</td>\n",
       "      <td>1.04</td>\n",
       "      <td>2.93</td>\n",
       "      <td>735</td>\n",
       "    </tr>\n",
       "  </tbody>\n",
       "</table>\n",
       "</div>"
      ],
      "text/plain": [
       "   label  alcohol  malic acid   ash  alcalinity of ash  magnesium  \\\n",
       "0      1    14.23        1.71  2.43               15.6        127   \n",
       "1      1    13.20        1.78  2.14               11.2        100   \n",
       "2      1    13.16        2.36  2.67               18.6        101   \n",
       "3      1    14.37        1.95  2.50               16.8        113   \n",
       "4      1    13.24        2.59  2.87               21.0        118   \n",
       "\n",
       "   total phenols  flavanoids  nonflavanoid phenols  proanthocyanins  \\\n",
       "0           2.80        3.06                  0.28             2.29   \n",
       "1           2.65        2.76                  0.26             1.28   \n",
       "2           2.80        3.24                  0.30             2.81   \n",
       "3           3.85        3.49                  0.24             2.18   \n",
       "4           2.80        2.69                  0.39             1.82   \n",
       "\n",
       "   color intensity   hue  OD280/OD315 of diluted wines  proline  \n",
       "0             5.64  1.04                          3.92     1065  \n",
       "1             4.38  1.05                          3.40     1050  \n",
       "2             5.68  1.03                          3.17     1185  \n",
       "3             7.80  0.86                          3.45     1480  \n",
       "4             4.32  1.04                          2.93      735  "
      ]
     },
     "execution_count": 5,
     "metadata": {},
     "output_type": "execute_result"
    }
   ],
   "source": [
    "# data reading and preprocessing\n",
    "# since we are dealing with categorical features, we translate them to integer labels.\n",
    "# we can do this without headaches since we are not running any actual regression on our data.\n",
    "\n",
    "df = pd.read_csv('../datasets/wine.csv', header=None, names = [\"label\", \"alcohol\",\"malic acid\",\"ash\", \"alcalinity of ash\", \n",
    "                                                   \"magnesium\", \"total phenols\", \"flavanoids\",\n",
    "                                                   \"nonflavanoid phenols\", \"proanthocyanins\", \"color intensity\",\n",
    "                                                   \"hue\", \"OD280/OD315 of diluted wines\", \"proline\"])\n",
    "\n",
    "df.head()"
   ]
  },
  {
   "cell_type": "code",
   "execution_count": 6,
   "metadata": {},
   "outputs": [],
   "source": [
    "names = [\"alcohol\",\"malic acid\",\"ash\", \"alcalinity of ash\", \n",
    "         \"magnesium\", \"total phenols\", \"flavanoids\",\n",
    "         \"nonflavanoid phenols\", \"proanthocyanins\", \"color intensity\",\n",
    "         \"hue\", \"OD280/OD315 of diluted wines\", \"proline\"]\n",
    "\n",
    "df_X_train, df_X_test, df_y_train, df_y_test = train_test_split(df[names],df['label'], random_state=2435234)\n",
    "\n",
    "\n",
    "X_train=df_X_train.to_numpy()\n",
    "X_test=df_X_test.to_numpy()\n",
    "y_train=df_y_train.to_numpy()\n",
    "y_test=df_y_test.to_numpy()\n",
    "\n",
    "\n",
    "scaler = preprocessing.StandardScaler().fit(X_train)\n",
    "X_train = scaler.transform(X_train)\n",
    "X_test = scaler.transform(X_test)\n",
    "\n",
    "\n",
    "# prepending training samples with 1\n",
    "ones = np.ones(X_train.shape[0]).reshape((X_train.shape[0], 1))\n",
    "X_train = np.hstack((ones, X_train))\n",
    "\n",
    "\n",
    "# prepending test samples with 1\n",
    "ones = np.ones(X_test.shape[0]).reshape((X_test.shape[0], 1))\n",
    "X_test = np.hstack((ones, X_test))"
   ]
  },
  {
   "cell_type": "code",
   "execution_count": 7,
   "metadata": {},
   "outputs": [],
   "source": [
    "# softmax function for extension\n",
    "\n",
    "def softmax(z):\n",
    "    e_z = np.exp(np.array(z))\n",
    "    return e_z / np.sum(e_z, axis = 0)"
   ]
  },
  {
   "cell_type": "code",
   "execution_count": 8,
   "metadata": {},
   "outputs": [],
   "source": [
    "# intializing parameters w_i for extension; denoted W\n",
    "\n",
    "features = X_train.shape[1]\n",
    "classes = 3                                # three classes according to dataset\n",
    "\n",
    "W = np.zeros((classes, features))"
   ]
  },
  {
   "cell_type": "code",
   "execution_count": 9,
   "metadata": {},
   "outputs": [],
   "source": [
    "# hypothesis function for multiclass\n",
    "\n",
    "def multi_hypothesis(X, W):\n",
    "    if X.ndim == 1:\n",
    "        return softmax(np.matmul(W, X))\n",
    "    else:\n",
    "        result = []\n",
    "        for i in range(0, X.shape[0]):\n",
    "            result.append(softmax(np.matmul(W, X[i])))\n",
    "        return np.array(result)"
   ]
  },
  {
   "cell_type": "code",
   "execution_count": 10,
   "metadata": {},
   "outputs": [],
   "source": [
    "# categorical cross_entropy\n",
    "\n",
    "def cat_x_entropy(X , y , W):\n",
    "    log_likelihood = 0\n",
    "    h = multi_hypothesis(X, W)\n",
    "    \n",
    "    for i in range(0, X.shape[0]):\n",
    "        val = -1 * np.log(h[i][y[i]-1])\n",
    "        log_likelihood += val\n",
    "    return -1*log_likelihood / X.shape[0]"
   ]
  },
  {
   "cell_type": "code",
   "execution_count": 11,
   "metadata": {},
   "outputs": [],
   "source": [
    "def one_hot_encode(label, classes):\n",
    "    vec = np.zeros(classes)\n",
    "    vec[label - 1] = 1\n",
    "    return vec"
   ]
  },
  {
   "cell_type": "code",
   "execution_count": 12,
   "metadata": {},
   "outputs": [],
   "source": [
    "# modified gradient ascent\n",
    "\n",
    "features = X_train.shape[1]\n",
    "classes = 3 \n",
    "\n",
    "def multi_gradient_ascent(X, y, learning_rate, num_iters):\n",
    "    entropy_values = []\n",
    "    W = np.zeros((classes, features))\n",
    "    N = X.shape[0] \n",
    "  \n",
    "    for i in range(0, num_iters):\n",
    "        h_current = multi_hypothesis(X, W)\n",
    "        for j in range(0, W.shape[0]):\n",
    "            gradient_term = np.zeros((W.shape[1], ))\n",
    "            for l in range(0, X.shape[0]):\n",
    "                y_n = one_hot_encode(y[l], classes)\n",
    "                gradient_term += np.multiply(y_n[j] - h_current[l][j], X[l])                \n",
    "            W[j] += (learning_rate/N)*gradient_term \n",
    "            \n",
    "        if (i % 100) == 0:\n",
    "            entropy_values.append([i, cat_x_entropy(X,y,W)])\n",
    "        \n",
    "    return W, entropy_values"
   ]
  },
  {
   "cell_type": "code",
   "execution_count": 13,
   "metadata": {
    "scrolled": true
   },
   "outputs": [
    {
     "name": "stdout",
     "output_type": "stream",
     "text": [
      "[[ 0.37582874  1.34856126  0.33368576  0.94976528 -1.61363153  0.11834935\n",
      "   0.55401524  1.0777676  -0.11753371 -0.06018848  0.09566429  0.12027834\n",
      "   0.99276151  1.70810654]\n",
      " [ 0.47480413 -2.02325426 -0.57554064 -1.74324623  1.37723292 -0.27134544\n",
      "  -0.47182437  0.55048141  0.25580044  0.6303248  -1.61297529  1.26050208\n",
      "   0.29143598 -2.23124107]\n",
      " [-0.85063287  0.674693    0.24185488  0.79348095  0.23639861  0.15299609\n",
      "  -0.08219087 -1.62824901 -0.13826674 -0.57013632  1.517311   -1.38078042\n",
      "  -1.28419749  0.52313453]]\n"
     ]
    }
   ],
   "source": [
    "# fitting our model\n",
    "\n",
    "learning_rate = 0.25\n",
    "num_iters = 2000      # The number of iterations to run the gradient ascent algorithm\n",
    "\n",
    "W, entropy_values = multi_gradient_ascent(X_train, y_train, learning_rate, num_iters)\n",
    "print(W)"
   ]
  },
  {
   "cell_type": "code",
   "execution_count": 14,
   "metadata": {},
   "outputs": [
    {
     "name": "stdout",
     "output_type": "stream",
     "text": [
      "my accuracy:  0.9777777777777777\n"
     ]
    }
   ],
   "source": [
    "# measuring accuracy\n",
    "\n",
    "correct = 0\n",
    "\n",
    "for i in range(0, X_test.shape[0]):\n",
    "    hyp = multi_hypothesis(X_test[i], W)\n",
    "    if np.argmax(hyp) == y_test[i]-1:\n",
    "        correct += 1\n",
    "\n",
    "print(\"my accuracy: \", correct / X_test.shape[0])"
   ]
  },
  {
   "cell_type": "code",
   "execution_count": 15,
   "metadata": {},
   "outputs": [
    {
     "name": "stdout",
     "output_type": "stream",
     "text": [
      "scikit accuracy:  0.9777777777777777\n"
     ]
    }
   ],
   "source": [
    "# measuring accuracy of scikit's implementation\n",
    "\n",
    "from sklearn.linear_model import LogisticRegression\n",
    "clf = LogisticRegression().fit(X_train, y_train)\n",
    "\n",
    "acc = clf.score(X_test, y_test)\n",
    "print(\"scikit accuracy: \", acc)"
   ]
  },
  {
   "cell_type": "code",
   "execution_count": 16,
   "metadata": {},
   "outputs": [
    {
     "data": {
      "text/plain": [
       "<matplotlib.collections.PathCollection at 0x1483939d0>"
      ]
     },
     "execution_count": 16,
     "metadata": {},
     "output_type": "execute_result"
    },
    {
     "data": {
      "image/png": "[encoded data removed]",
      "text/plain": [
       "<Figure size 432x288 with 1 Axes>"
      ]
     },
     "metadata": {
      "needs_background": "light"
     },
     "output_type": "display_data"
    }
   ],
   "source": [
    "plt.scatter(*zip(*entropy_values))"
   ]
  },
  {
   "cell_type": "code",
   "execution_count": null,
   "metadata": {},
   "outputs": [],
   "source": []
  }
 ],
 "metadata": {
  "kernelspec": {
   "display_name": "Python 3",
   "language": "python",
   "name": "python3"
  },
  "language_info": {
   "codemirror_mode": {
    "name": "ipython",
    "version": 3
   },
   "file_extension": ".py",
   "mimetype": "text/x-python",
   "name": "python",
   "nbconvert_exporter": "python",
   "pygments_lexer": "ipython3",
   "version": "3.7.6"
  }
 },
 "nbformat": 4,
 "nbformat_minor": 4
}
